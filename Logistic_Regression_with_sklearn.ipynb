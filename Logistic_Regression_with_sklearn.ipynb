{
  "nbformat": 4,
  "nbformat_minor": 0,
  "metadata": {
    "colab": {
      "name": "Logistic_Regression_with_sklearn.ipynb",
      "version": "0.3.2",
      "provenance": []
    },
    "kernelspec": {
      "name": "python3",
      "display_name": "Python 3"
    }
  },
  "cells": [
    {
      "cell_type": "code",
      "metadata": {
        "id": "P_3_FLs4cVA5",
        "colab_type": "code",
        "outputId": "0ce6245c-f06d-4bde-872e-3acc7f57de61",
        "colab": {
          "base_uri": "https://localhost:8080/",
          "height": 102
        }
      },
      "source": [
        "import pandas as pd\n",
        "from sklearn.linear_model import LogisticRegression\n",
        "import numpy as np\n",
        "\n",
        "#number of pixels after conversion\n",
        "no_pix = 3\n",
        "#load dataset\n",
        "pima = pd.read_csv(\"output3.csv\", header=None)\n",
        "#average gray scale of every pixel in output3.csv\n",
        "X = pima.iloc[:, 0:no_pix*no_pix]\n",
        "#numbers 0 or 1, if 0 then it is letter o, if 1 then it is letter x\n",
        "y = pima.iloc[:,-1]\n",
        "\n",
        "#instantiate the model (using the default parameters)\n",
        "logreg = LogisticRegression()\n",
        "#fit the model with data\n",
        "logreg.fit(X,y)\n",
        "#print score\n",
        "score = logreg.score(X,y)\n",
        "print(score)\n",
        "\n",
        "#save and print parametars\n",
        "parameters = logreg.coef_\n",
        "np.savetxt(\"weights3.csv\", parameters, delimiter=\",\")\n",
        "print(parameters)"
      ],
      "execution_count": 4,
      "outputs": [
        {
          "output_type": "stream",
          "text": [
            "1.0\n",
            "[[-0.83959969  0.85408325 -0.37839335  0.76802856 -0.88139323  0.89086524\n",
            "  -0.74920654  0.79070805 -0.3996645 ]]\n"
          ],
          "name": "stdout"
        },
        {
          "output_type": "stream",
          "text": [
            "/usr/local/lib/python3.6/dist-packages/sklearn/linear_model/logistic.py:432: FutureWarning: Default solver will be changed to 'lbfgs' in 0.22. Specify a solver to silence this warning.\n",
            "  FutureWarning)\n"
          ],
          "name": "stderr"
        }
      ]
    }
  ]
}